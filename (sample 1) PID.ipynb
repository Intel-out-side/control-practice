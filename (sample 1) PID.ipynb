{
 "cells": [
  {
   "cell_type": "markdown",
   "metadata": {},
   "source": [
    "Let us consider a 1DOF spring-mass-damper system. An input is a force $f$ and an output is a position of the cart $x$.\n",
    "\n",
    "$$\n",
    "m\\ddot{x} = -c\\dot{x} -kx + f\n",
    "$$\n",
    "To this equation, we execute Laplace transformation for both wing. Then we get:\n",
    "$$\n",
    "(ms^2 + cs + k)X = F\n",
    "$$\n",
    "Therefore, a transfrer function of this system is:\n",
    "$$\n",
    "G = \\frac{1}{ms^2 + cs + k}\n",
    "$$"
   ]
  },
  {
   "cell_type": "code",
   "execution_count": null,
   "metadata": {},
   "outputs": [],
   "source": [
    "from control.matlab import *\n",
    "import numpy as np\n",
    "import matplotlib.pyplot as plt\n",
    "\n",
    "m = 2\n",
    "k = 0.1\n",
    "c = 0.01\n",
    "\n",
    "# Plant\n",
    "G = tf([1], [m, c, k])\n",
    "print(G)"
   ]
  },
  {
   "cell_type": "markdown",
   "metadata": {},
   "source": [
    "The transfer function of this system is stable in itself. We can easily examine this, because a system is stable when all the real part of poles of G's denominator are negative value. (i.e. $Re[p_i]<0$).\n",
    "In today's case,\n",
    "$$\n",
    "ms^2 + cs + k = 0 \\quad \\\\\\\\\n",
    "s^2 + 2\\zeta\\omega s + \\omega^2 = 0 \\quad \\\\\\\\\n",
    "p = -\\zeta\\omega \\pm j\\omega\\sqrt{1-\\zeta^2} \\quad \\\\\\\\\n",
    "$$\n",
    "Clearly, $Re[p_1] < 0 \\quad Re[p_2]<0$"
   ]
  },
  {
   "cell_type": "markdown",
   "metadata": {},
   "source": [
    "What if we want to keep the position of the cart $x$ at the certain value? Then we just need to control the input force $f$. To realize this, we introduce PID control. \"PID\" refers to \"Proportional, Integral, Differential.\" This control method basically realizes the output that converges to intended one by reducing error $e(t) = x_d - x$. <img src = \"PIDcontrol.png\"> Let us implement this controller by using Python."
   ]
  },
  {
   "cell_type": "code",
   "execution_count": 2,
   "metadata": {},
   "outputs": [
    {
     "name": "stdout",
     "output_type": "stream",
     "text": [
      "\n",
      "9 s^2 + 0.4 s + 0.4\n",
      "-------------------\n",
      "         s\n",
      "\n"
     ]
    }
   ],
   "source": [
    "# Controller\n",
    "Kp = 0.4\n",
    "Ki = 0.4\n",
    "Kd = 9\n",
    "num = [Kd, Kp, Ki]\n",
    "den = [1, 0]\n",
    "K = tf(num, den)\n",
    "print(K)"
   ]
  },
  {
   "cell_type": "code",
   "execution_count": 4,
   "metadata": {},
   "outputs": [
    {
     "data": {
      "image/png": "[encoded data removed]",
      "text/plain": [
       "<Figure size 432x288 with 1 Axes>"
      ]
     },
     "metadata": {},
     "output_type": "display_data"
    }
   ],
   "source": [
    "sys = feedback(K*G, 1)\n",
    "t = np.linspace(0, 5, 1000)\n",
    "y, T = step(sys, t)\n",
    "plt.plot(T, y)\n",
    "plt.axhline(0, color='b', linestyle='--')\n",
    "plt.axhline(1, color='b', linestyle='--')\n",
    "plt.show()"
   ]
  },
  {
   "cell_type": "code",
   "execution_count": null,
   "metadata": {},
   "outputs": [],
   "source": []
  }
 ],
 "metadata": {
  "kernelspec": {
   "display_name": "Python 3",
   "language": "python",
   "name": "python3"
  },
  "language_info": {
   "codemirror_mode": {
    "name": "ipython",
    "version": 3
   },
   "file_extension": ".py",
   "mimetype": "text/x-python",
   "name": "python",
   "nbconvert_exporter": "python",
   "pygments_lexer": "ipython3",
   "version": "3.6.5"
  }
 },
 "nbformat": 4,
 "nbformat_minor": 2
}
