{
 "cells": [
  {
   "cell_type": "markdown",
   "metadata": {},
   "source": [
    "## Designing an observer for LTI system\n",
    "Reference:  \n",
    "[1] http://y373.sakura.ne.jp/minami/pyctrl  \n",
    "[2] \"Pythonによる制御工学入門(第1版)\", 南裕樹, オーム社  \n",
    "[3] \"Control Engineering: MATLAB Exercies\", Laszlo.K et al, Springer\n",
    "\n",
    "In the previous section, we have discussed the state feedback for LTI system. State feedback uses the \"states\" of the system, which means the displacement, velocity, angle, or angular velocity are assumed to be measureable. But what if one or some of those values are inmeasureable?\n",
    "Observer provides us to estimate the states.\n",
    "\n",
    "### full-order observer\n",
    "Let us assume the sytem s.t. it estimates the all of the states by:\n",
    "$$\n",
    "\\dot{\\hat{\\boldsymbol{x}}}(t) = \\boldsymbol{A}\\hat{\\boldsymbol{x}}(t) + \\boldsymbol{B}u(t) - \\boldsymbol{L}(y(t) - \\boldsymbol{C}\\hat{\\boldsymbol{x}}(t))\n",
    "$$\n",
    "\n",
    "This makes sense because the first and second terms of the right wing derives from the model itself. The third term multiplies gain $\\boldsymbol{L}$ to the error between the output $y(t)$ and the estimated output $C\\hat{\\boldsymbol{x}}(t)$\n",
    "\n",
    "Now, let us define the error between the true state and estimated state as:\n",
    "$$\n",
    "\\boldsymbol{e}(t) = \\boldsymbol{x}(t) - \\boldsymbol{\\hat{x}}(t)\n",
    "$$\n",
    "Then this yields:\n",
    "$$\n",
    "\\boldsymbol{\\dot{e}}(t) = \\boldsymbol{\\dot{x}}(t) - \\boldsymbol{\\dot{\\hat{x}}}(t) = (\\boldsymbol{A} + \\boldsymbol{LC})\\boldsymbol{e}(t)\n",
    "$$\n",
    "\n",
    "This means that the error converges to zero ($\\boldsymbol{e}(t) \\to 0$) if we properly design the obsever gain $\\boldsymbol{L}$. When the error is negated, $\\boldsymbol{\\hat{x}}(t)$ must be good estimation of $\\boldsymbol{x}(t)$.\n",
    "\n",
    "Here we see the analogy with the pole-placement method of LTI feedback system. ($\\dot{x} = (A+BK)x$) By transposing $(A+LC)^T = A^T + C^TL^T$, ackerman's pole placement method becomes applicable to the observer gain."
   ]
  },
  {
   "cell_type": "markdown",
   "metadata": {},
   "source": [
    "Let us see how observer works in the python code below.\n",
    "\n",
    "Now we can see that observer is also one type of sytems since it can be represented as:\n",
    "$$\n",
    "\\boldsymbol{\\dot{\\hat{x}}}(t) = (\\boldsymbol{A}+\\boldsymbol{LC})\\boldsymbol{\\hat{x}}(t) +\n",
    "[\\begin{matrix} \\boldsymbol{B} & -\\boldsymbol{L} \\end{matrix}]\\left[\\begin{matrix} u(t) \\\\ y(t) \\end{matrix}\\right]\n",
    "$$\n",
    "\n",
    "Thereby lsim/ss function of python-control visualizes the behavior of the observer."
   ]
  },
  {
   "cell_type": "code",
   "execution_count": 1,
   "metadata": {},
   "outputs": [],
   "source": [
    "import control.matlab as ctrl\n",
    "import numpy as np\n",
    "import matplotlib.pyplot as plt\n",
    "import sympy as sp"
   ]
  },
  {
   "cell_type": "code",
   "execution_count": 5,
   "metadata": {},
   "outputs": [
    {
     "name": "stdout",
     "output_type": "stream",
     "text": [
      "observer poles:  [-15.+5.j -15.-5.j]\n",
      "regulator poles:  [-5.+5.j -5.-5.j]\n"
     ]
    },
    {
     "data": {
      "image/png": "[encoded data removed]",
      "text/plain": [
       "<Figure size 432x288 with 2 Axes>"
      ]
     },
     "metadata": {},
     "output_type": "display_data"
    }
   ],
   "source": [
    "A = '0 1; -4 5'\n",
    "B = '0; 1'\n",
    "C = '1 0'\n",
    "D = '0'\n",
    "\n",
    "P = ctrl.ss(A, B, C, D)\n",
    "\n",
    "#observer's pole\n",
    "obs_pole = [-15+5j, -15-5j]\n",
    "\n",
    "#observer's gain\n",
    "L = -ctrl.acker(P.A.T, P.C.T, obs_pole).T\n",
    "print(\"observer poles: \", np.linalg.eigvals(P.A+L*P.C))\n",
    "\n",
    "Td = np.arange(0, 3, 0.01)  # time range \n",
    "X0 = [-1, 0.5]  # the initial state\n",
    "\n",
    "regulator_poles = [-5+5j, -5-5j]\n",
    "F = -ctrl.acker(P.A, P.B, regulator_poles)\n",
    "print(\"regulator poles: \", np.linalg.eigvals(P.A+P.B*F))\n",
    "\n",
    "# true behavior of the state\n",
    "G_statefb = ctrl.ss(P.A + P.B*F, P.B, np.eye(2), [[0], [0]])\n",
    "#i.e.) outputting two states without external disturbance\n",
    "x, t = ctrl.initial(G_statefb, Td, X0)\n",
    "\n",
    "fig, ax = plt.subplots(1, 2)\n",
    "ax[0].plot(t, x[:, 0], ls=\"-.\", label=\"$x_1$\")\n",
    "ax[1].plot(t, x[:, 1], ls=\"--\", label=\"$x_2$\")\n",
    "\n",
    "# estimated behavior of the state\n",
    "\n",
    "# u = Fx -> u = f1*x1 + f2*x2\n",
    "u = [] # input u = Fx\n",
    "for i in range(len(x)):\n",
    "    f1 = F[0, 0]\n",
    "    f2 = F[0, 1]\n",
    "    x1 = x[i, 0]\n",
    "    x2 = x[i, 1]\n",
    "    u.append([f1*x1 + f2*x2])\n",
    "    \n",
    "# output y = Cx\n",
    "y = x[:, 0]\n",
    "\n",
    "# state estimation by observer\n",
    "Obs = ctrl.ss(P.A + L*P.C, np.c_[P.B, -L], np.eye(2), [[0, 0], [0, 0]])\n",
    "xhat, t, x0 = ctrl.lsim(Obs, np.c_[u, y], Td, [0, 0])\n",
    "\n",
    "ax[0].plot(t, xhat[:, 0], label=\"$\\hat{x}_1$\")\n",
    "ax[1].plot(t, xhat[:, 1], label=\"$\\hat{x}_2$\")\n",
    "\n",
    "ax[0].axhline(0, ls=\"--\", color=\"k\")\n",
    "ax[0].grid()\n",
    "\n",
    "ax[1].axhline(0, ls=\"--\", color=\"k\")\n",
    "ax[1].grid()\n",
    "\n",
    "fig.legend()\n",
    "fig.tight_layout()"
   ]
  },
  {
   "cell_type": "markdown",
   "metadata": {},
   "source": [
    "Let us use the estimated state $\\hat{x}$ to establish the state feedback $u = \\boldsymbol{F\\hat{x}}$.\n",
    "The equation of the observer is:\n",
    "\n",
    "$$\n",
    "\\boldsymbol{\\dot{\\hat{x}}} = (\\boldsymbol{A} + \\boldsymbol{LC})\\boldsymbol{\\hat{x}}(t) + \\boldsymbol{B}u(t) + \\boldsymbol{-L}y(t) \n",
    "$$\n",
    "\n",
    "Having $u(t) = \\boldsymbol{F\\hat{x}}(t)$, this yields:\n",
    "$$\n",
    "\\boldsymbol{\\dot{\\hat{x}}} = (\\boldsymbol{A+BF+LC})\\boldsymbol{\\hat{x}}(t) - \\boldsymbol{L}y(t) \\\\\n",
    "\\boldsymbol{\\hat{X}}(s) = (\\boldsymbol{A+BF+LC}-s\\boldsymbol{I})^{-1}\\boldsymbol{L}Y(s) \\\\\n",
    "U(s) = \\boldsymbol{F}(\\boldsymbol{A+BF+LC}-s\\boldsymbol{I})^{-1}\\boldsymbol{L}Y(s)\n",
    "$$\n",
    "\n",
    "Let us see the behavior of the state feedback with full-order observer below. "
   ]
  },
  {
   "cell_type": "code",
   "execution_count": 12,
   "metadata": {},
   "outputs": [
    {
     "data": {
      "image/png": "[encoded data removed]",
      "text/plain": [
       "<Figure size 432x288 with 1 Axes>"
      ]
     },
     "metadata": {},
     "output_type": "display_data"
    }
   ],
   "source": [
    "# state feedback\n",
    "regulator_poles = [-5+5j, -5-5j]\n",
    "F = -ctrl.acker(P.A, P.B, regulator_poles)\n",
    "\n",
    "# observer gain\n",
    "observer_poles = [-15+5j, -15-5j]\n",
    "L = -ctrl.acker(P.A.T, P.C.T, observer_poles).T\n",
    "\n",
    "# controller (observer + state feedback)\n",
    "K = ctrl.ss(P.A + P.B*F + L*P.C, -L, F, 0)\n",
    "# feedback system\n",
    "Gfb = ctrl.feedback(P, K, sign=1)\n",
    "\n",
    "Y0 = [-1, 0.5]\n",
    "Td = np.arange(0, 3, 0.01)\n",
    "y, t = ctrl.initial(P, Td, Y0)\n",
    "plt.plot(t, y, ls=\"-.\", label=\"no feedback\")\n",
    "\n",
    "Y0 = [-1, 0.5, 0, 0]\n",
    "y, t = ctrl.initial(Gfb, Td, Y0)\n",
    "plt.plot(t, y, ls=\"--\", label=\"feedback\")\n",
    "\n",
    "plt.ylim(-1, 3)\n",
    "plt.grid()\n",
    "plt.legend()\n",
    "plt.axhline(0, ls=\"--\", color=\"k\")\n",
    "plt.show()"
   ]
  },
  {
   "cell_type": "code",
   "execution_count": null,
   "metadata": {},
   "outputs": [],
   "source": []
  }
 ],
 "metadata": {
  "kernelspec": {
   "display_name": "Python 3",
   "language": "python",
   "name": "python3"
  },
  "language_info": {
   "codemirror_mode": {
    "name": "ipython",
    "version": 3
   },
   "file_extension": ".py",
   "mimetype": "text/x-python",
   "name": "python",
   "nbconvert_exporter": "python",
   "pygments_lexer": "ipython3",
   "version": "3.6.9"
  }
 },
 "nbformat": 4,
 "nbformat_minor": 2
}
