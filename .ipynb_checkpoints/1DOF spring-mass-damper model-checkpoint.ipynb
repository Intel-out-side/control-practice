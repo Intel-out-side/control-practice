{
 "cells": [
  {
   "cell_type": "markdown",
   "metadata": {},
   "source": [
    "Here we discuss state feedback of 1DOF system. Let us assume the spring-mass-damper model as follows;\n",
    "$$\n",
    "m\\ddot{x} = -c\\dot{x} - kx + u \\\\\n",
    "\\ddot{x} = -(c/m)\\dot{x} - (k/m)x + (1/m)u\n",
    "$$\n",
    "\n",
    "This equation is converted into an equation of state by setting each variables as;\n",
    "\n",
    "$$\n",
    "x_1 = x \\quad x_2 = \\dot{x} \\\\\n",
    "\\boldsymbol{x} = \n",
    "\\left[\\begin{array}{c}\n",
    "    x1\\\\\n",
    "    x2\\\\\n",
    "    \\end{array}\\right]\n",
    "$$\n",
    "\n",
    "Threfore, we get an equation of state as follows.\n",
    "\n",
    "$$\n",
    "\\dot{\\boldsymbol{x}} = \n",
    "\\left[\\begin{array}{cc}\n",
    "    0 & 1\\\\\n",
    "    -k/m & -c/m\\\\\n",
    "    \\end{array}\\right]\\boldsymbol{x} + \n",
    "\\left[\\begin{array}{c}\n",
    "    0\\\\\n",
    "    1/m\\\\\n",
    "    \\end{array}\\right]\\boldsymbol{u}\\\\\n",
    "\\dot{\\boldsymbol{x}} = A\\boldsymbol{x} + B\\boldsymbol{u}\n",
    "$$\n",
    "\n",
    "In addition, when we observe an output of this system, we use an equation of output. $\\boldsymbol{v}$ is a noise, but we ignore this assuming we have perfectly clear output.\n",
    "\n",
    "$$\n",
    "\\boldsymbol{y} = C\\boldsymbol{x} + D\\boldsymbol{v}\n",
    "$$\n",
    "\n",
    "For example, if we can observe all the variables in this system, then $C=[1, 1]$.\n",
    "Let us run those equations on Python using python-control library."
   ]
  },
  {
   "cell_type": "code",
   "execution_count": 1,
   "metadata": {},
   "outputs": [],
   "source": [
    "from control.matlab import *\n",
    "import numpy as np\n",
    "import matplotlib.pyplot as plt"
   ]
  },
  {
   "cell_type": "code",
   "execution_count": 2,
   "metadata": {},
   "outputs": [
    {
     "name": "stdout",
     "output_type": "stream",
     "text": [
      "A = [[ 0.    1.  ]\n",
      " [-0.1  -0.01]]\n",
      "\n",
      "B = [[0.]\n",
      " [1.]]\n",
      "\n",
      "C = [[1 1]]\n",
      "\n",
      "D = [[0]]\n",
      "\n"
     ]
    }
   ],
   "source": [
    "m = 1\n",
    "k = 0.1\n",
    "c = 0.01\n",
    "\n",
    "A = [[0, 1], \n",
    "     [-k/m, -c/m]]\n",
    "\n",
    "B = [[0], \n",
    "     [1/m]]\n",
    "\n",
    "C = [1, 1]\n",
    "\n",
    "D = [0]\n",
    "\n",
    "sys = ss(A, B, C, D)\n",
    "print(sys)"
   ]
  },
  {
   "cell_type": "markdown",
   "metadata": {},
   "source": [
    "What if we set the input ${u}$ so that the position $x$ always converge to 0? Let us assume we have an input $\\boldsymbol{u}$ such that $\\boldsymbol{u}$ realizes $x \\to 0$.\n",
    "\n",
    "$$\n",
    "\\boldsymbol{u} = -K\\boldsymbol{x} \\quad then, \\\\\n",
    "\\dot{\\boldsymbol{x}} = (A - BK)\\boldsymbol{x}\\\\\n",
    "$$\n",
    "\n",
    "When we have an autonomous system like $\\dot{\\boldsymbol{x}} = A\\boldsymbol{x}$, then a necessary and sufficient condition is that all the real part of the matrix A is negative. (i.e. $Re[\\lambda_i]<0$)\n",
    "\n",
    "Therefore, it is clear that all we need to do is set an appropriate gain $K$ to realize $x \\to 0$ in the system $\\dot{\\boldsymbol{x}} = (A - BK)\\boldsymbol{x}$.\n",
    "\n",
    "Then how do we define the value of $K$ ? Let us assume we design the feedback system such that the system realize a response characteristics $\\omega, \\zeta$. This equals to placing the poles of the closed loop to $-\\zeta\\omega \\pm j\\omega\\sqrt{1-\\zeta^2}$.\n",
    "\n",
    "Assuming $K = [k_1, k_2]$, the equation of state is calculated as;\n",
    "\n",
    "$$\n",
    "\\dot{\\boldsymbol{x}}= \n",
    "\\left[\\begin{array}{cc}\n",
    "    0 & 1 \\\\\n",
    "    -(k+k_1)/m & -(c+k_2)/m\\\\\n",
    "    \\end{array}\\right]\\boldsymbol{x}\n",
    "$$\n",
    "\n",
    "A characteristic polynomial is:\n",
    "$$ s^2 + \\frac{c+k_2}{m}s + \\frac{k+k_1}{m} = 0 $$\n",
    "\n",
    "On the other hand, if we realize pole positions $-\\zeta\\omega \\pm j\\omega\\sqrt{1-\\zeta^2}$, then the characteristic polynomial should be equal to:\n",
    "$$ s^2 + 2\\zeta\\omega s + \\omega^2 = 0 $$\n",
    "\n",
    "By comparing each coefficients, we get\n",
    "$$k_1 = m\\omega^2 - k \\quad k_2 = 2m\\zeta\\omega - c$$\n",
    "\n",
    "Let us check the impulse response of this sytem in the time domain on Python."
   ]
  },
  {
   "cell_type": "code",
   "execution_count": 3,
   "metadata": {},
   "outputs": [
    {
     "name": "stdout",
     "output_type": "stream",
     "text": [
      "[[99.9   1.99]]\n"
     ]
    }
   ],
   "source": [
    "omega = 10\n",
    "zeta = 0.1  # <1\n",
    "poles = [-zeta*omega+1j*omega*np.sqrt(1-zeta**2), -zeta*omega-1j*omega*np.sqrt(1-zeta**2)]  # arbitrary pole position\n",
    "K = place(A, B, poles)\n",
    "print(K)"
   ]
  },
  {
   "cell_type": "code",
   "execution_count": 4,
   "metadata": {},
   "outputs": [
    {
     "data": {
      "image/png": "[encoded data removed]",
      "text/plain": [
       "<Figure size 432x288 with 1 Axes>"
      ]
     },
     "metadata": {},
     "output_type": "display_data"
    }
   ],
   "source": [
    "# impulse response\n",
    "sys_fb = ss(sys.A - sys.B*K, sys.B, sys.C, sys.D)\n",
    "t = np.linspace(0, 8, 1000)\n",
    "y, T = impulse(sys_fb, t)\n",
    "plt.plot(T, y)\n",
    "plt.axhline(0, color='b', linestyle='--')\n",
    "plt.show()"
   ]
  }
 ],
 "metadata": {
  "kernelspec": {
   "display_name": "Python 3",
   "language": "python",
   "name": "python3"
  },
  "language_info": {
   "codemirror_mode": {
    "name": "ipython",
    "version": 3
   },
   "file_extension": ".py",
   "mimetype": "text/x-python",
   "name": "python",
   "nbconvert_exporter": "python",
   "pygments_lexer": "ipython3",
   "version": "3.6.5"
  }
 },
 "nbformat": 4,
 "nbformat_minor": 2
}
