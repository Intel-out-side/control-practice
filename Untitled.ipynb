{
 "cells": [
  {
   "cell_type": "markdown",
   "metadata": {},
   "source": [
    "## Designing an observer for LTI system\n",
    "Reference:  \n",
    "[1] http://y373.sakura.ne.jp/minami/pyctrl  \n",
    "[2] \"Pythonによる制御工学入門(第1版)\", 南裕樹, オーム社  \n",
    "[3] \"Control Engineering: MATLAB Exercies\", Laszlo.K et al, Springer\n",
    "\n",
    "In the previous section, we have discussed the state feedback for LTI system. State feedback uses the \"states\" of the system, which means the displacement, velocity, angle, or angular velocity are assumed to be measureable. But what if one or some of those values are inmeasureable?\n",
    "Observer provides us to estimate the states.\n",
    "\n",
    "### full-order observer\n",
    "Let us assume the sytem s.t. it estimates the all of the states by:\n",
    "$$\n",
    "\\dot{\\hat{\\boldsymbol{x}}}(t) = \\boldsymbol{A}\\hat{\\boldsymbol{x}}(t) + \\boldsymbol{B}u(t) - \\boldsymbol{L}(y(t) - \\boldsymbol{C}\\hat{\\boldsymbol{x}}(t))\n",
    "$$\n",
    "\n",
    "This makes sense because the first and second terms of the right wing derives from the model itself. The third term multiplies gain $\\boldsymbol{L}$ to the error between the output $y(t)$ and the estimated output $C\\hat{\\boldsymbol{x}}(t)$\n",
    "\n",
    "Now, let us define the error between the true state and estimated state as:\n",
    "$$\n",
    "\\boldsymbol{e}(t) = \\boldsymbol{x}(t) - \\boldsymbol{\\hat{x}}(t)\n",
    "$$\n",
    "Then this yields:\n",
    "$$\n",
    "\\boldsymbol{\\dot{e}}(t) = \\boldsymbol{\\dot{x}}(t) - \\boldsymbol{\\dot{\\hat{x}}}(t) = (\\boldsymbol{A} + \\boldsymbol{LC})\\boldsymbol{e}(t)\n",
    "$$\n",
    "\n",
    "This means that the error converges to zero ($\\boldsymbol{e}(t) \\to 0$) if we properly design the obsever gain $\\boldsymbol{L}$. When the error is negated, $\\boldsymbol{\\hat{x}}(t)$ must be good estimation of $\\boldsymbol{x}(t)$.\n",
    "\n",
    "Here we see the analogy with the pole-placement method of LTI feedback system. ($\\dot{x} = (A+BK)x$) By transposing $(A+LC)^T = A^T + C^TL^T$, ackerman's pole placement method becomes applicable to the observer gain."
   ]
  },
  {
   "cell_type": "code",
   "execution_count": 1,
   "metadata": {},
   "outputs": [],
   "source": [
    "import control.matlab as ctrl\n",
    "import numpy as np\n",
    "import matplotlib.pyplot as plt\n",
    "import sympy as sp"
   ]
  },
  {
   "cell_type": "code",
   "execution_count": null,
   "metadata": {},
   "outputs": [],
   "source": [
    "A = "
   ]
  }
 ],
 "metadata": {
  "kernelspec": {
   "display_name": "Python 3",
   "language": "python",
   "name": "python3"
  },
  "language_info": {
   "codemirror_mode": {
    "name": "ipython",
    "version": 3
   },
   "file_extension": ".py",
   "mimetype": "text/x-python",
   "name": "python",
   "nbconvert_exporter": "python",
   "pygments_lexer": "ipython3",
   "version": "3.6.9"
  }
 },
 "nbformat": 4,
 "nbformat_minor": 2
}
