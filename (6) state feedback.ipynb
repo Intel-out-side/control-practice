{
 "cells": [
  {
   "cell_type": "markdown",
   "metadata": {},
   "source": [
    "## State feedback of LTI system\n",
    "Reference:  \n",
    "[1] http://y373.sakura.ne.jp/minami/pyctrl  \n",
    "[2] \"Pythonによる制御工学入門(第1版)\", 南裕樹, オーム社  \n",
    "[3] \"Control Engineering: MATLAB Exercies\", Laszlo.K et al, Springer\n",
    "\n",
    "Let us design the controller for the LTI system such that:\n",
    "$$\n",
    "\\dot{\\boldsymbol{x}} = \\boldsymbol{Ax} + \\boldsymbol{B}u\n",
    "$$\n",
    "\n",
    "Assuming all the states are observable and controllable, the input is designed as:\n",
    "$$\n",
    "u = -\\boldsymbol{Fx}\n",
    "$$\n",
    "$\\boldsymbol{F}$ is called \"state feedback gain.\"\n",
    "\n",
    "This being said, how do we design the feedback gain? We have two possible answers for this: pole placement, and optimal regulator."
   ]
  },
  {
   "cell_type": "markdown",
   "metadata": {},
   "source": [
    "### Pole placement method\n",
    "Assuming that we apply the state feedback $u = -\\boldsymbol{Fx}$ to the above system, we get:\n",
    "$$\n",
    "\\boldsymbol{\\dot{x}} = (\\boldsymbol{A-BF})\\boldsymbol{x}\n",
    "$$\n",
    "\n",
    "This system stablizes if all the real parts of eigenvalues of $\\boldsymbol{A-BF}$ are negative. Pole placement method designs the feedback gain $\\boldsymbol{F}$ so that it satisfies this condition. Python-control provides the useful library called \"ackerman's pole placement algorithm\".\n",
    "This enables us to design the response to behave desirablly."
   ]
  },
  {
   "cell_type": "code",
   "execution_count": 1,
   "metadata": {},
   "outputs": [],
   "source": [
    "import control.matlab as ctrl\n",
    "import matplotlib.pyplot as plt\n",
    "import numpy as np\n",
    "import sympy as sp"
   ]
  },
  {
   "cell_type": "code",
   "execution_count": 7,
   "metadata": {},
   "outputs": [
    {
     "data": {
      "image/png": "[encoded data removed]",
      "text/plain": [
       "<Figure size 432x288 with 1 Axes>"
      ]
     },
     "metadata": {},
     "output_type": "display_data"
    }
   ],
   "source": [
    "# ackerman's pole placement algorithm\n",
    "\n",
    "A = '0 1; -4 5'\n",
    "B = '0; 1'\n",
    "C = '1 0; 0 1'\n",
    "D = '0; 0'\n",
    "\n",
    "P = ctrl.ss(A, B, C, D)\n",
    "Pole = [-1, -1]  # poles are arbitrarily placed here\n",
    "\n",
    "F = ctrl.acker(P.A, P.B, Pole)\n",
    "\n",
    "Acl = P.A - P.B*F\n",
    "Pfb = ctrl.ss(Acl, P.B, P.C, P.D)\n",
    "\n",
    "Td = np.arange(0, 5, 0.01)\n",
    "X0 = [-0.3, 0.4]  # initial state\n",
    "x, t = ctrl.initial(Pfb, Td, X0)\n",
    "\n",
    "plt.plot(t, x[:,0], label=\"$x_0$\")\n",
    "plt.plot(t, x[:,1], label=\"$x_1$\")\n",
    "plt.grid()\n",
    "plt.axhline(0, linestyle=\":\", color=\"k\")\n",
    "plt.legend()\n",
    "plt.show()"
   ]
  },
  {
   "cell_type": "code",
   "execution_count": 8,
   "metadata": {},
   "outputs": [
    {
     "name": "stdout",
     "output_type": "stream",
     "text": [
      "[-1. -1.]\n"
     ]
    }
   ],
   "source": [
    "# let's check if F actually yields pole = [-1, -1]\n",
    "\n",
    "print(np.linalg.eigvals(P.A-P.B*F))"
   ]
  },
  {
   "cell_type": "markdown",
   "metadata": {},
   "source": [
    "### Optimal regulator design\n",
    "\n",
    "We have discussed the designablility of the poles of the system. But this leaves a few problems such as:\n",
    "\n",
    "1. Increasing a real-negative value of eigenvalues improves its response, but it makes feedback gain $F$ larger at the same time\n",
    "2. Some of the state variables might oscillates.\n",
    "\n",
    "This being said, an optimal regulator design tackles this problem. Assuming $\\boldsymbol{Q} = \\boldsymbol{Q}^T > 0$ and $\\boldsymbol{R} = \\boldsymbol{R}^T > 0$, we can define a scholar evaluation function:\n",
    "$$\n",
    "J = \\int_{0}^{\\infty} \\boldsymbol{x}^T(t) \\boldsymbol{Q} \\boldsymbol{x}(t) + u^T(t)\\boldsymbol{R}u(t)dt\n",
    "$$\n",
    "The controller that minimizes $J$ is the optimal controller for the system and called an optimal controller.\n",
    "\n",
    "Such a controller $u = \\boldsymbol{F_{opt}x}$ is given by solving:\n",
    "$$\n",
    "\\boldsymbol{F_{opt}} = -\\boldsymbol{R}^{-1} \\boldsymbol{B}^T \\boldsymbol{P}\n",
    "$$\n",
    "\n",
    "$\\boldsymbol{P}$ is given as a solution of Ricatti equation:\n",
    "$$\n",
    "\\boldsymbol{A}^T\\boldsymbol{P} + \\boldsymbol{PA} + \\boldsymbol{PBR}^{-1}\\boldsymbol{B}^T\\boldsymbol{P} + \\boldsymbol{Q} = 0\n",
    "$$"
   ]
  },
  {
   "cell_type": "markdown",
   "metadata": {},
   "source": [
    "(The later part is yet to be added since slycot is not functioning on my environment now.)"
   ]
  },
  {
   "cell_type": "code",
   "execution_count": null,
   "metadata": {},
   "outputs": [],
   "source": []
  }
 ],
 "metadata": {
  "kernelspec": {
   "display_name": "Python 3",
   "language": "python",
   "name": "python3"
  },
  "language_info": {
   "codemirror_mode": {
    "name": "ipython",
    "version": 3
   },
   "file_extension": ".py",
   "mimetype": "text/x-python",
   "name": "python",
   "nbconvert_exporter": "python",
   "pygments_lexer": "ipython3",
   "version": "3.6.9"
  }
 },
 "nbformat": 4,
 "nbformat_minor": 2
}
