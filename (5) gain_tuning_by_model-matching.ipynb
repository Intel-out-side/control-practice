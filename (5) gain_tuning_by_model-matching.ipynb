{
 "cells": [
  {
   "cell_type": "markdown",
   "metadata": {},
   "source": [
    "## Gain tuning of PID control by model-matching\n",
    "Reference:  \n",
    "[1] http://y373.sakura.ne.jp/minami/pyctrl  \n",
    "[2] \"Pythonによる制御工学入門(第1版)\", 南裕樹, オーム社  \n",
    "[3] \"Control Engineering: MATLAB Exercies\", Laszlo.K et al, Springer\n",
    "\n",
    "Let us assume the vertically pinned arm that we discussed in the previous section. PID parameters were given to be appropreately control the system. But what if we have to tune those parameters manually?\n",
    "\n",
    "In those situations, one of the useful methods is \"model matching\" method. Model matching tunes the PID parameters so that the transfer function of the system $G_{yr}(s)$ gives the (nearly) same output. The model reference system is represented as $M(s)$. If the model reference system is second order lag system, then:\n",
    "\n",
    "$$\n",
    "M(s) = \\frac{\\omega_n^2}{s^2 + 2\\zeta\\omega_ns + \\omega_n^2}\n",
    "$$\n",
    "McLaughlin expansion of $\\frac{1}{G_{yr}(s)}$ is set to be nearing to that of and $\\frac{1}{M(s)}$ from the lower order terms.\n",
    "\n",
    "Now thinks about PI-D control of the arm. The transfer function from reference input $r$ to the output $y$ is:\n",
    "$$\n",
    "G_{yr}(s) = \\frac{k_Ps+k_I}{Js^3 + (\\mu+k_D)s^2 + (Mgl+k_P)s + k_I}\n",
    "$$\n",
    "McLaughlin expansion of $\\frac{1}{G_{yr}(s)}$ is:\n",
    "$$\n",
    "\\frac{1}{G_{yr}(s)} = 1 + \\frac{Mgl}{k_I}s + (\\frac{\\mu+k_D}{k_I} - Mgl\\frac{k_P}{k_I^2})s^2 + (\\frac{J}{k_I}-\\frac{k_P(\\mu+k_D)}{k_I^2} + Mgl\\frac{k_P^2}{k_I^3})s^3 + O(s^4)\n",
    "$$\n",
    "On the other hand, McLaughlin expansion of $\\frac{1}{M(s)}$ is:\n",
    "$$\n",
    "\\frac{1}{M(s)} = 1 + \\frac{2\\zeta}{\\omega_n}s + \\frac{1}{\\omega_n^2}s^2\n",
    "$$\n",
    "\n",
    "By solving $1/G_{yr} = 1/M$, we get:\n",
    "$$\n",
    "k_P = \\omega_n^2J, \\quad k_I = \\frac{\\omega_nMgl}{2\\zeta}, \\quad k_D = 2\\zeta\\omega_nJ + \\frac{Mgl}{2\\zeta\\omega_n} - \\mu\n",
    "$$\n",
    "\n",
    "Let us observe the result of this model matching method below."
   ]
  },
  {
   "cell_type": "code",
   "execution_count": 1,
   "metadata": {},
   "outputs": [
    {
     "ename": "ModuleNotFoundError",
     "evalue": "No module named 'control'",
     "output_type": "error",
     "traceback": [
      "\u001b[0;31m---------------------------------------------------------------------------\u001b[0m",
      "\u001b[0;31mModuleNotFoundError\u001b[0m                       Traceback (most recent call last)",
      "\u001b[0;32m<ipython-input-1-a9248804e995>\u001b[0m in \u001b[0;36m<module>\u001b[0;34m()\u001b[0m\n\u001b[0;32m----> 1\u001b[0;31m \u001b[0;32mimport\u001b[0m \u001b[0mcontrol\u001b[0m\u001b[0;34m.\u001b[0m\u001b[0mmatlab\u001b[0m \u001b[0;32mas\u001b[0m \u001b[0mctrl\u001b[0m\u001b[0;34m\u001b[0m\u001b[0;34m\u001b[0m\u001b[0m\n\u001b[0m\u001b[1;32m      2\u001b[0m \u001b[0;32mimport\u001b[0m \u001b[0mmatplotlib\u001b[0m\u001b[0;34m.\u001b[0m\u001b[0mpyplot\u001b[0m \u001b[0;32mas\u001b[0m \u001b[0mplt\u001b[0m\u001b[0;34m\u001b[0m\u001b[0;34m\u001b[0m\u001b[0m\n\u001b[1;32m      3\u001b[0m \u001b[0;32mimport\u001b[0m \u001b[0mnumpy\u001b[0m \u001b[0;32mas\u001b[0m \u001b[0mnp\u001b[0m\u001b[0;34m\u001b[0m\u001b[0;34m\u001b[0m\u001b[0m\n\u001b[1;32m      4\u001b[0m \u001b[0;32mimport\u001b[0m \u001b[0msympy\u001b[0m \u001b[0;32mas\u001b[0m \u001b[0msp\u001b[0m\u001b[0;34m\u001b[0m\u001b[0;34m\u001b[0m\u001b[0m\n\u001b[1;32m      5\u001b[0m \u001b[0;34m\u001b[0m\u001b[0m\n",
      "\u001b[0;31mModuleNotFoundError\u001b[0m: No module named 'control'"
     ]
    }
   ],
   "source": [
    "import control.matlab as ctrl\n",
    "import matplotlib.pyplot as plt\n",
    "import numpy as np\n",
    "import sympy as sp\n",
    "\n",
    "g = 9.81\n",
    "l = 0.2\n",
    "M = 0.5\n",
    "mu = 1.5e-2\n",
    "J = 1.0e-2\n",
    "ref = 30"
   ]
  },
  {
   "cell_type": "code",
   "execution_count": null,
   "metadata": {},
   "outputs": [],
   "source": [
    "s = sp.Symbol('s')\n",
    "kp, kd, ki = sp.symbols('k_p k_d k_i')\n",
    "Mgl, mu, J = sp.symbols('Mgl mu J')\n",
    "sp.init_printing()"
   ]
  },
  {
   "cell_type": "code",
   "execution_count": null,
   "metadata": {},
   "outputs": [],
   "source": [
    "# McLaughlin expansion of Gyr\n",
    "G = (kp*s+ki)/(J*s**3 + (mu+kd)*s**2 + (Mgl + kp)*s + ki)\n",
    "sp.series(1/G, s, 0, 4)  # the result matches with the McLaughlin expansion above"
   ]
  },
  {
   "cell_type": "code",
   "execution_count": null,
   "metadata": {},
   "outputs": [],
   "source": [
    "# model matching of 1/Gyr(s) to 1/M(s)\n",
    "z, wn = sp.symbols('zeta omega_n')\n",
    "sp.init_printing()\n",
    "\n",
    "f1 = Mgl/ki -2*z/wn\n",
    "f2 = (mu+kd)/ki - Mgl*kp/(ki**2) - 1/(wn**2)\n",
    "f3 = J/ki - kp*(mu+kd)/(ki**2) + Mgl*kp**2/(ki**3)\n",
    "sp.solve([f1, f2, f3], [kp, kd, ki])"
   ]
  },
  {
   "cell_type": "markdown",
   "metadata": {},
   "source": [
    "The above chunk of code gave us:\n",
    "$$\n",
    "k_P = \\omega_n^2J, \\quad k_I = \\frac{\\omega_nMgl}{2\\zeta}, \\quad k_D = 2\\zeta\\omega_nJ + \\frac{Mgl}{2\\zeta\\omega_n} - \\mu\n",
    "$$\n",
    "\n",
    "This yields the comparison of each output of $G_{yr}(s), M(s)$ as following:"
   ]
  },
  {
   "cell_type": "code",
   "execution_count": null,
   "metadata": {},
   "outputs": [],
   "source": [
    "# model reference system\n",
    "omega_n = 15\n",
    "zeta = 0.707\n",
    "Msys = ctrl.tf([0, omega_n**2], [1, 2*zeta*omega_n, omega_n**2])\n",
    "\n",
    "# the sytem (Gyr(s))\n",
    "kp = omega_n**2 * J\n",
    "kd = 2*J*omega_n*zeta + (M*g*l)/(2*omega_n*zeta)-mu\n",
    "ki = M*g*l*omega_n/(2*zeta)\n",
    "num = [kp, ki]\n",
    "den = [J, mu+kd, M*g*l+kp, ki]\n",
    "Gyr = ctrl.tf(num, den)\n",
    "\n",
    "y_model, t_model = ctrl.step(Msys, np.arange(0, 2, 0.01))\n",
    "y, t = ctrl.step(Gyr, np.arange(0, 2, 0.01))\n",
    "\n",
    "plt.plot(t_model, y_model*ref, label=\"model\")\n",
    "plt.plot(t, y*ref, label=\"system\")\n",
    "plt.legend()\n",
    "plt.axhline(ref, linestyle=\":\", color=\"k\")\n",
    "plt.grid()\n",
    "plt.show()  # output of model and system exactly match"
   ]
  },
  {
   "cell_type": "code",
   "execution_count": null,
   "metadata": {},
   "outputs": [],
   "source": []
  }
 ],
 "metadata": {
  "kernelspec": {
   "display_name": "Python 3",
   "language": "python",
   "name": "python3"
  },
  "language_info": {
   "codemirror_mode": {
    "name": "ipython",
    "version": 3
   },
   "file_extension": ".py",
   "mimetype": "text/x-python",
   "name": "python",
   "nbconvert_exporter": "python",
   "pygments_lexer": "ipython3",
   "version": "3.6.9"
  }
 },
 "nbformat": 4,
 "nbformat_minor": 2
}
